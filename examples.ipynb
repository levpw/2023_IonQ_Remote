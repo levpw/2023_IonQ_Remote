{
 "cells": [
  {
   "cell_type": "code",
   "execution_count": 88,
   "id": "4d3113ae",
   "metadata": {},
   "outputs": [],
   "source": [
    "import qiskit\n",
    "from qiskit import quantum_info\n",
    "from qiskit.execute_function import execute\n",
    "from qiskit import BasicAer\n",
    "import numpy as np\n",
    "import pickle\n",
    "import json\n",
    "import os\n",
    "from collections import Counter\n",
    "from sklearn.metrics import mean_squared_error\n",
    "from typing import Dict, List\n",
    "import matplotlib.pyplot as plt\n",
    "\n",
    "#define utility functions\n",
    "\n",
    "def simulate(circuit: qiskit.QuantumCircuit) -> dict:\n",
    "    \"\"\"Simulate the circuit, give the state vector as the result.\"\"\"\n",
    "    backend = BasicAer.get_backend('statevector_simulator')\n",
    "    job = execute(circuit, backend)\n",
    "    result = job.result()\n",
    "    state_vector = result.get_statevector()\n",
    "    \n",
    "    histogram = dict()\n",
    "    for i in range(len(state_vector)):\n",
    "        population = abs(state_vector[i]) ** 2\n",
    "        if population > 1e-9:\n",
    "            histogram[i] = population\n",
    "    \n",
    "    return histogram\n",
    "\n",
    "\n",
    "def histogram_to_category(histogram):\n",
    "    \"\"\"This function take a histogram representations of circuit execution results, and process into labels as described in \n",
    "    the problem description.\"\"\"\n",
    "    assert abs(sum(histogram.values())-1)<1e-8\n",
    "    positive=0\n",
    "    for key in histogram.keys():\n",
    "        digits = bin(int(key))[2:].zfill(20)\n",
    "        if digits[-1]=='0':\n",
    "            positive+=histogram[key]\n",
    "        \n",
    "    return positive\n",
    "\n",
    "\n",
    "def count_gates(circuit: qiskit.QuantumCircuit) -> Dict[int, int]:\n",
    "    \"\"\"Returns the number of gate operations with each number of qubits.\"\"\"\n",
    "    counter = Counter([len(gate[1]) for gate in circuit.data])\n",
    "    #feel free to comment out the following two lines. But make sure you don't have k-qubit gates in your circuit\n",
    "    #for k>2\n",
    "    for i in range(2,20):\n",
    "        assert counter[i]==0\n",
    "        \n",
    "    return counter\n",
    "\n",
    "\n",
    "def image_mse(image1,image2):\n",
    "    # Using sklearns mean squared error:\n",
    "    # https://scikit-learn.org/stable/modules/generated/sklearn.metrics.mean_squared_error.html\n",
    "    return mean_squared_error(image1, image2)"
   ]
  },
  {
   "cell_type": "code",
   "execution_count": 8,
   "id": "82f90e0d",
   "metadata": {},
   "outputs": [],
   "source": [
    "#load the mock data (for testing only)\n",
    "files=os.listdir(\"mock_data\")\n",
    "dataset=list()\n",
    "for file in files:\n",
    "    with open('mock_data/'+file, \"r\") as infile:\n",
    "        loaded = json.load(infile)\n",
    "        dataset.append(loaded)"
   ]
  },
  {
   "cell_type": "code",
   "execution_count": 73,
   "id": "cb96a334",
   "metadata": {},
   "outputs": [
    {
     "data": {
      "text/plain": [
       "<matplotlib.image.AxesImage at 0x2a88d3cfa60>"
      ]
     },
     "execution_count": 73,
     "metadata": {},
     "output_type": "execute_result"
    },
    {
     "data": {
      "image/png": "[encoded data removed]",
      "text/plain": [
       "<Figure size 640x480 with 1 Axes>"
      ]
     },
     "metadata": {},
     "output_type": "display_data"
    }
   ],
   "source": [
    "#load the actual hackthon data (fashion-mnist)\n",
    "images=np.load('data/images.npy')\n",
    "labels=np.load('data/labels.npy')\n",
    "#you can visualize it\n",
    "import matplotlib.pyplot as plt\n",
    "plt.imshow(images[1100])\n",
    "\n",
    "#print(images[0])\n",
    "#print(np.max(images[0]))"
   ]
  },
  {
   "cell_type": "code",
   "execution_count": 87,
   "id": "b02b160e",
   "metadata": {},
   "outputs": [
    {
     "name": "stdout",
     "output_type": "stream",
     "text": [
      "OrderedDict([('cx', 10368), ('u3', 3334), ('u', 3213), ('u2', 5)])\n",
      "Counter({2: 10368, 1: 6552})\n",
      "OrderedDict([('cx', 11008), ('u3', 3648), ('u', 3529), ('u2', 5)])\n",
      "Counter({2: 11008, 1: 7182})\n",
      "OrderedDict([('cx', 9984), ('u3', 3145), ('u', 3024), ('u2', 5)])\n",
      "Counter({2: 9984, 1: 6174})\n",
      "OrderedDict([('cx', 9984), ('u3', 3145), ('u', 3024), ('u2', 5)])\n",
      "Counter({2: 9984, 1: 6174})\n",
      "OrderedDict([('cx', 9344), ('u3', 2830), ('u', 2709), ('u2', 5)])\n",
      "Counter({2: 9344, 1: 5544})\n",
      "OrderedDict([('cx', 9344), ('u3', 2830), ('u', 2709), ('u2', 5)])\n",
      "Counter({2: 9344, 1: 5544})\n",
      "OrderedDict([('cx', 7936), ('u3', 2137), ('u', 2016), ('u2', 5)])\n",
      "Counter({2: 7936, 1: 4158})\n",
      "OrderedDict([('cx', 8704), ('u3', 2515), ('u', 2394), ('u2', 5)])\n",
      "Counter({2: 8704, 1: 4914})\n",
      "OrderedDict([('cx', 9088), ('u3', 2704), ('u', 2583), ('u2', 5)])\n",
      "Counter({2: 9088, 1: 5292})\n",
      "OrderedDict([('cx', 9856), ('u3', 3082), ('u', 2961), ('u2', 5)])\n",
      "Counter({2: 9856, 1: 6048})\n",
      "0.9532814151523019\n"
     ]
    }
   ],
   "source": [
    "#grade part1\n",
    "\n",
    "import part1\n",
    "from importlib import reload\n",
    "reload(part1)\n",
    "\n",
    "from part1 import *\n",
    "\n",
    "n_shots = 65535\n",
    "dataset = images\n",
    "\n",
    "#n_qubits = np.ceil(2*np.log2(dataset.shape[1])).astype(int)\n",
    "\n",
    "n=len(dataset)\n",
    "mse=0\n",
    "gatecount=0\n",
    "\n",
    "for data in dataset[:2]:\n",
    "\n",
    "    #encode image into circuit\n",
    "    circuit = encode(data)\n",
    "    \n",
    "    #count the number of 2-qubit gates\n",
    "    gatecount += count_gates(circuit)[2]\n",
    "\n",
    "    #simulate circuit\n",
    "    #histogram=simulate(circuit)\n",
    "    histogram = simulate(circuit)\n",
    "    \n",
    "    #reconstruct the image\n",
    "    image_re = decode(histogram)\n",
    "\n",
    "    #calculate mse\n",
    "    mse += image_mse(data,image_re)\n",
    "    \n",
    "#fidelity of reconstruction\n",
    "f=1-mse\n",
    "gatecount=gatecount/n\n",
    "\n",
    "#score for part1 \n",
    "print(f*(0.999**gatecount))"
   ]
  },
  {
   "cell_type": "code",
   "execution_count": 89,
   "id": "2fe52c43",
   "metadata": {},
   "outputs": [
    {
     "name": "stdout",
     "output_type": "stream",
     "text": [
      "0: ───Rx(π)───\n"
     ]
    },
    {
     "ename": "TypeError",
     "evalue": "issubclass() arg 1 must be a class",
     "output_type": "error",
     "traceback": [
      "\u001b[1;31m---------------------------------------------------------------------------\u001b[0m",
      "\u001b[1;31mTypeError\u001b[0m                                 Traceback (most recent call last)",
      "Cell \u001b[1;32mIn[89], line 17\u001b[0m\n\u001b[0;32m     13\u001b[0m circuit\u001b[39m=\u001b[39mencode(data)\n\u001b[0;32m     15\u001b[0m \u001b[39m#append with classifier circuit\u001b[39;00m\n\u001b[1;32m---> 17\u001b[0m circuit\u001b[39m.\u001b[39;49mappend(classifier)\n\u001b[0;32m     19\u001b[0m \u001b[39m#simulate circuit\u001b[39;00m\n\u001b[0;32m     20\u001b[0m histogram\u001b[39m=\u001b[39msimulate(circuit)\n",
      "File \u001b[1;32mc:\\Users\\kaite\\miniconda3\\envs\\quantum\\lib\\site-packages\\qiskit\\circuit\\quantumcircuit.py:1237\u001b[0m, in \u001b[0;36mQuantumCircuit.append\u001b[1;34m(self, instruction, qargs, cargs)\u001b[0m\n\u001b[0;32m   1235\u001b[0m         \u001b[39mraise\u001b[39;00m CircuitError(\u001b[39m\"\u001b[39m\u001b[39moperation.to_instruction() is not an Operation.\u001b[39m\u001b[39m\"\u001b[39m)\n\u001b[0;32m   1236\u001b[0m \u001b[39melse\u001b[39;00m:\n\u001b[1;32m-> 1237\u001b[0m     \u001b[39mif\u001b[39;00m \u001b[39missubclass\u001b[39;49m(operation, Operation):\n\u001b[0;32m   1238\u001b[0m         \u001b[39mraise\u001b[39;00m CircuitError(\n\u001b[0;32m   1239\u001b[0m             \u001b[39m\"\u001b[39m\u001b[39mObject is a subclass of Operation, please add () to \u001b[39m\u001b[39m\"\u001b[39m\n\u001b[0;32m   1240\u001b[0m             \u001b[39m\"\u001b[39m\u001b[39mpass an instance of this object.\u001b[39m\u001b[39m\"\u001b[39m\n\u001b[0;32m   1241\u001b[0m         )\n\u001b[0;32m   1243\u001b[0m     \u001b[39mraise\u001b[39;00m CircuitError(\n\u001b[0;32m   1244\u001b[0m         \u001b[39m\"\u001b[39m\u001b[39mObject to append must be an Operation or have a to_instruction() method.\u001b[39m\u001b[39m\"\u001b[39m\n\u001b[0;32m   1245\u001b[0m     )\n",
      "File \u001b[1;32mc:\\Users\\kaite\\miniconda3\\envs\\quantum\\lib\\abc.py:102\u001b[0m, in \u001b[0;36mABCMeta.__subclasscheck__\u001b[1;34m(cls, subclass)\u001b[0m\n\u001b[0;32m    100\u001b[0m \u001b[39mdef\u001b[39;00m \u001b[39m__subclasscheck__\u001b[39m(\u001b[39mcls\u001b[39m, subclass):\n\u001b[0;32m    101\u001b[0m \u001b[39m    \u001b[39m\u001b[39m\"\"\"Override for issubclass(subclass, cls).\"\"\"\u001b[39;00m\n\u001b[1;32m--> 102\u001b[0m     \u001b[39mreturn\u001b[39;00m _abc_subclasscheck(\u001b[39mcls\u001b[39;49m, subclass)\n",
      "\u001b[1;31mTypeError\u001b[0m: issubclass() arg 1 must be a class"
     ]
    }
   ],
   "source": [
    "#grade part 2\n",
    "\n",
    "#load classifier circuit\n",
    "with open('part2.pickle', 'rb') as f:\n",
    "    classifier=pickle.load(f)\n",
    "    \n",
    "score=0\n",
    "\n",
    "for data in dataset[:2]:\n",
    "    #encode image into circuit\n",
    "    circuit=encode(data)\n",
    "    \n",
    "    #append with classifier circuit\n",
    "    \n",
    "    circuit.append(classifier)\n",
    "    \n",
    "    #simulate circuit\n",
    "    histogram=simulate(circuit)\n",
    "    \n",
    "    #count the gate used in the circuit for score calculation\n",
    "    gatecount+=count_gates(circuit)[2]\n",
    "    \n",
    "    #convert histogram to category\n",
    "    cat=histogram_to_category(histogram)\n",
    "        \n",
    "    if cat==data['category']:\n",
    "        score+=1\n",
    "#score\n",
    "score=score/n\n",
    "gatecount=gatecount/n\n",
    "\n",
    "print(score*(0.999**gatecount))"
   ]
  }
 ],
 "metadata": {
  "kernelspec": {
   "display_name": "quantum",
   "language": "python",
   "name": "python3"
  },
  "language_info": {
   "codemirror_mode": {
    "name": "ipython",
    "version": 3
   },
   "file_extension": ".py",
   "mimetype": "text/x-python",
   "name": "python",
   "nbconvert_exporter": "python",
   "pygments_lexer": "ipython3",
   "version": "3.8.15"
  },
  "vscode": {
   "interpreter": {
    "hash": "23588192aa28ad4bf77265ee598fb9f07cf63d21d224bbca76b6c97889103d0b"
   }
  }
 },
 "nbformat": 4,
 "nbformat_minor": 5
}
